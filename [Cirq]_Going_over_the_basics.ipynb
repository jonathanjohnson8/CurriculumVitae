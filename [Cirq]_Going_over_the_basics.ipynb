{
  "nbformat": 4,
  "nbformat_minor": 0,
  "metadata": {
    "colab": {
      "name": "[Cirq] Going over the basics.ipynb",
      "provenance": [],
      "toc_visible": true,
      "authorship_tag": "ABX9TyOFeETPCyYcaQG8QUTNvzwZ",
      "include_colab_link": true
    },
    "kernelspec": {
      "name": "python3",
      "display_name": "Python 3"
    },
    "language_info": {
      "name": "python"
    }
  },
  "cells": [
    {
      "cell_type": "markdown",
      "metadata": {
        "id": "view-in-github",
        "colab_type": "text"
      },
      "source": [
        "<a href=\"https://colab.research.google.com/github/jonathanjohnson8/CurriculumVitae/blob/main/%5BCirq%5D_Going_over_the_basics.ipynb\" target=\"_parent\"><img src=\"https://colab.research.google.com/assets/colab-badge.svg\" alt=\"Open In Colab\"/></a>"
      ]
    },
    {
      "cell_type": "markdown",
      "source": [
        "#Setting Up the Environment"
      ],
      "metadata": {
        "id": "bKyspKY0JUkp"
      }
    },
    {
      "cell_type": "code",
      "execution_count": null,
      "metadata": {
        "id": "XzOQOh6IgVYv"
      },
      "outputs": [],
      "source": [
        "!pip install cirq"
      ]
    },
    {
      "cell_type": "code",
      "source": [
        "!apt-get install texlive-latex-base latexmk "
      ],
      "metadata": {
        "id": "PoaKMQa_h3GW"
      },
      "execution_count": null,
      "outputs": []
    },
    {
      "cell_type": "code",
      "source": [
        "import cirq"
      ],
      "metadata": {
        "id": "qOwoZSRcgWEx"
      },
      "execution_count": 3,
      "outputs": []
    },
    {
      "cell_type": "code",
      "source": [
        "try:\n",
        "    import cirq\n",
        "except ImportError:\n",
        "  print(\"installing cirq...\")\n",
        "!pip install --quiet cirq\n",
        "print(\"installed cirq.\")"
      ],
      "metadata": {
        "colab": {
          "base_uri": "https://localhost:8080/"
        },
        "id": "2H-flmWci7No",
        "outputId": "9ff2460f-680e-45af-b91c-30babab204ca"
      },
      "execution_count": 7,
      "outputs": [
        {
          "output_type": "stream",
          "name": "stdout",
          "text": [
            "installed cirq.\n"
          ]
        }
      ]
    },
    {
      "cell_type": "code",
      "source": [
        "import cirq_google"
      ],
      "metadata": {
        "id": "ayiN1h3HjJl8"
      },
      "execution_count": 8,
      "outputs": []
    },
    {
      "cell_type": "markdown",
      "source": [
        "#From Basics, Implementing Qubits"
      ],
      "metadata": {
        "id": "S3n5fCpsRHNf"
      }
    },
    {
      "cell_type": "code",
      "source": [
        "qubit = cirq.NamedQubit(\"myqubit\")\n"
      ],
      "metadata": {
        "id": "BMrgy3ECRK1f"
      },
      "execution_count": 16,
      "outputs": []
    },
    {
      "cell_type": "markdown",
      "source": [
        "Within the next cell, we are able to create a superposition of state |0> and state |1>"
      ],
      "metadata": {
        "id": "dFbKa_B1SNag"
      }
    },
    {
      "cell_type": "code",
      "source": [
        "circuit = cirq.Circuit(cirq.H(qubit)) #This is a Hadamard Gate"
      ],
      "metadata": {
        "id": "rw35Qpw-R9G1"
      },
      "execution_count": 20,
      "outputs": []
    },
    {
      "cell_type": "code",
      "source": [
        "print(circuit)"
      ],
      "metadata": {
        "colab": {
          "base_uri": "https://localhost:8080/"
        },
        "id": "ck7UGkwXSXi-",
        "outputId": "6a45066d-1624-4bf5-9e26-d2d8ccce1af5"
      },
      "execution_count": 21,
      "outputs": [
        {
          "output_type": "stream",
          "name": "stdout",
          "text": [
            "myqubit: ───H───\n"
          ]
        }
      ]
    },
    {
      "cell_type": "markdown",
      "source": [
        "Within the next cell, we are able to simulate the circuit to see its operations"
      ],
      "metadata": {
        "id": "CgznBEYXS3ie"
      }
    },
    {
      "cell_type": "code",
      "source": [
        "result = cirq.Simulator().simulate(circuit)\n",
        "print(\"result:\")\n",
        "print(result)"
      ],
      "metadata": {
        "colab": {
          "base_uri": "https://localhost:8080/"
        },
        "id": "uuS2CjcXSoE8",
        "outputId": "97f542a9-8d80-4dae-84bf-f8f2905c3d4f"
      },
      "execution_count": 23,
      "outputs": [
        {
          "output_type": "stream",
          "name": "stdout",
          "text": [
            "result:\n",
            "measurements: (no measurements)\n",
            "output vector: 0.707|0⟩ + 0.707|1⟩\n"
          ]
        }
      ]
    },
    {
      "cell_type": "markdown",
      "source": [
        "## Information on Qubits"
      ],
      "metadata": {
        "id": "lKcuechuTlq3"
      }
    },
    {
      "cell_type": "markdown",
      "source": [
        "There are 3 main qubit types in Cirq:\n",
        "\n",
        "- a. cirq.NamedQubit - an abstract qubit that only has a name, nothing else. Use this when you don't need anything else and you don't need to create too many qubits in bulk.\n",
        "\n",
        "- b. cirq.LineQubit - a qubit that is identified by an integer index in a line. Some devices have lines of qubits, LineQubit can be useful to represent that. Also cirq.LineQubit.range(3) is a very easy way to create 3 qubits.\n",
        "- c. cirq.GridQubit - a qubit that is placed on a grid and is identified by the 2D coordinates. Most of Google's chips are represented using GridQubits."
      ],
      "metadata": {
        "id": "7uB3gzBbTXSo"
      }
    },
    {
      "cell_type": "markdown",
      "source": [
        "More information here: [Qubits - Cirq Guide](https://quantumai.google/cirq/qubits)"
      ],
      "metadata": {
        "id": "vU3sjR1qTCLe"
      }
    },
    {
      "cell_type": "markdown",
      "source": [
        "# Declaring Qubits , Specifically, Abstract, Named Qubits"
      ],
      "metadata": {
        "id": "fv4xjW-_JYj_"
      }
    },
    {
      "cell_type": "code",
      "source": [
        "q0 = cirq.NamedQubit('source')\n",
        "q1 = cirq.NamedQubit('target')\n"
      ],
      "metadata": {
        "id": "d0IyuUe5I2GT"
      },
      "execution_count": 9,
      "outputs": []
    },
    {
      "cell_type": "markdown",
      "source": [
        "# Declaring Qubits, Specifically, Line Qubits"
      ],
      "metadata": {
        "id": "crQgosR7Jkwp"
      }
    },
    {
      "cell_type": "markdown",
      "source": [
        "Question : What is the reason that we skip over (q2) in the declaration of Qubits?"
      ],
      "metadata": {
        "id": "6MtqVhSxJzLd"
      }
    },
    {
      "cell_type": "code",
      "source": [
        "q3 = cirq.LineQubit(3)"
      ],
      "metadata": {
        "id": "k9yvjzYQJspu"
      },
      "execution_count": null,
      "outputs": []
    },
    {
      "cell_type": "code",
      "source": [
        "q0, q1, q2 = cirq.LineQubit.range(3) #here is a group reference to a Line Qubit\n",
        "print(cirq.LineQubit.range(3))"
      ],
      "metadata": {
        "colab": {
          "base_uri": "https://localhost:8080/"
        },
        "id": "mMqEXhvAJ5pa",
        "outputId": "76a9e74a-c541-4853-9bbf-c4958ec7881d"
      },
      "execution_count": 11,
      "outputs": [
        {
          "output_type": "stream",
          "name": "stdout",
          "text": [
            "[cirq.LineQubit(0), cirq.LineQubit(1), cirq.LineQubit(2)]\n"
          ]
        }
      ]
    },
    {
      "cell_type": "markdown",
      "source": [
        "#Declaring Qubits, Specifically, Grid Qubits"
      ],
      "metadata": {
        "id": "NzPy_TDuKaW1"
      }
    },
    {
      "cell_type": "code",
      "source": [
        "q4_5 = cirq.GridQubit(4,5) #here is an individual reference to a grid qubit"
      ],
      "metadata": {
        "id": "Ir2fJX2vKfOz"
      },
      "execution_count": 12,
      "outputs": []
    },
    {
      "cell_type": "code",
      "source": [
        "qubits = cirq.GridQubit.square(4) #here is a group reference to qubits"
      ],
      "metadata": {
        "id": "X5qvzvNVK2uN"
      },
      "execution_count": 13,
      "outputs": []
    },
    {
      "cell_type": "markdown",
      "source": [
        "#Visual Representation of Qubits via the Cirq Foxtail Device"
      ],
      "metadata": {
        "id": "KGk572bILRlt"
      }
    },
    {
      "cell_type": "code",
      "source": [
        "print(cirq_google.Foxtail)"
      ],
      "metadata": {
        "colab": {
          "base_uri": "https://localhost:8080/"
        },
        "id": "1KLCBAYcLk5V",
        "outputId": "187711e9-91eb-4000-ad13-8c1f314193b0"
      },
      "execution_count": 14,
      "outputs": [
        {
          "output_type": "stream",
          "name": "stdout",
          "text": [
            "(0, 0)───(0, 1)───(0, 2)───(0, 3)───(0, 4)───(0, 5)───(0, 6)───(0, 7)───(0, 8)───(0, 9)───(0, 10)\n",
            "│        │        │        │        │        │        │        │        │        │        │\n",
            "│        │        │        │        │        │        │        │        │        │        │\n",
            "(1, 0)───(1, 1)───(1, 2)───(1, 3)───(1, 4)───(1, 5)───(1, 6)───(1, 7)───(1, 8)───(1, 9)───(1, 10)\n"
          ]
        }
      ]
    }
  ]
}