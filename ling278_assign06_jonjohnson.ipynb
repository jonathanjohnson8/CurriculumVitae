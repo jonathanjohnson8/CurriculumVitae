{
 "cells": [
  {
   "cell_type": "markdown",
   "metadata": {},
   "source": [
    "Linguist 278: Programming for Linguists<br />\n",
    "Stanford Linguistics, Fall 2020<br />\n",
    "Christopher Potts<br />"
   ]
  },
  {
   "cell_type": "markdown",
   "metadata": {},
   "source": [
    "# Assignment 6\n",
    "\n",
    "Distributed 2020-10-26<br />\n",
    "Due 2020-11-02"
   ]
  },
  {
   "cell_type": "markdown",
   "metadata": {},
   "source": [
    "Please submit a modified version of this file with the exercise functions completed. You can add as many new cells as you want, but __please make sure there are no function calls in the cells containing your implementations of the exercises__."
   ]
  },
  {
   "cell_type": "code",
   "execution_count": 1,
   "metadata": {},
   "outputs": [],
   "source": [
    "%matplotlib inline\n",
    "import pandas as pd"
   ]
  },
  {
   "cell_type": "markdown",
   "metadata": {},
   "source": [
    "## Questions\n",
    "\n",
    "* [1. Reading in the Concreteness dataset [1 point]](#1.-Reading-in-the-Concreteness-dataset-[1-point])\n",
    "* [2. Multidimensional sorting [1 point]](#2.-Multidimensional-sorting-[1-point])\n",
    "* [3. Unigram vs. bigram distribution [1 point]](#3.-Unigram-vs.-bigram-distribution-[1-point])\n",
    "* [4. Barplot of the distribution of part-of-speech values [1 point]](#4.-Barplot-of-the-distribution-of-part-of-speech-values-[1-point])\n",
    "* [5. Subframe of above-average concreteness values [2 points]](#5.-Subframe-of-above-average-concreteness-values-[2-points])\n",
    "* [6. Recalculating 'Percent_known'  [2 points]](#6.-Recalculating-'Percent_known'--[2-points])\n",
    "* [7. Grouping by part-of-speech  [2 points]](#7.-Grouping-by-part-of-speech--[2-points])"
   ]
  },
  {
   "cell_type": "markdown",
   "metadata": {},
   "source": [
    "## 1. Reading in the Concreteness dataset [1 point]\n",
    "\n",
    "[Brysbaert et al. 2014](http://crr.ugent.be/papers/Brysbaert_Warriner_Kuperman_BRM_Concreteness_ratings.pdf) released a dataset of \"concreteness ratings for 40 thousand generally known English word lemmas\". The dataset is available from this link:\n",
    "\n",
    "http://www.humanities.mcmaster.ca/~vickup/Concreteness_ratings_Brysbaert_et_al_BRM.csv\n",
    "\n",
    "Here is an overview of the columns and their meanings:\n",
    "\n",
    "0. `Word`: The word (str; the keys in the dict/JSON)\n",
    "1. `Bigram`: Whether it is a single word or a two-word expression\n",
    "2. `Conc.M`: The mean concreteness rating\n",
    "3. `Conc.SD`: The standard deviation of the concreteness ratings (float)\n",
    "4. `Unknown`: The number of persons indicating they did not know the word\n",
    "5. `Total`: The total number of persons who rated the word\n",
    "6. `Percent_known`: Percentage of participants who knew the word\n",
    "7. `SUBTLEX`: The SUBTLEX-US frequency count\n",
    "8. `Dom_Pos`: The part-of-speech where known\n",
    "\n",
    "__Your tasks__: In separate cells below this one, use pandas to \n",
    "\n",
    "1. Download this lexicon CSV file and put it in the same directory as this notebook. Please do not change the name of the file.\n",
    "1. Read the file into a `pd.DataFrame` called `conc_df` with column 0 as the index.\n",
    "1. View the first 10 lines of `conc_df`. (This is a basic method of `pd.DataFrame` – no need to write original code.)\n",
    "1. Write a command that returns the row and column counts of `conc_df` as a tuple. (This too is a basic method of `pd.DataFrame`.)"
   ]
  },
  {
   "cell_type": "code",
   "execution_count": 8,
   "metadata": {},
   "outputs": [
    {
     "data": {
      "text/html": [
       "<div>\n",
       "<style scoped>\n",
       "    .dataframe tbody tr th:only-of-type {\n",
       "        vertical-align: middle;\n",
       "    }\n",
       "\n",
       "    .dataframe tbody tr th {\n",
       "        vertical-align: top;\n",
       "    }\n",
       "\n",
       "    .dataframe thead th {\n",
       "        text-align: right;\n",
       "    }\n",
       "</style>\n",
       "<table border=\"1\" class=\"dataframe\">\n",
       "  <thead>\n",
       "    <tr style=\"text-align: right;\">\n",
       "      <th></th>\n",
       "      <th>Bigram</th>\n",
       "      <th>Conc.M</th>\n",
       "      <th>Conc.SD</th>\n",
       "      <th>Unknown</th>\n",
       "      <th>Total</th>\n",
       "      <th>Percent_known</th>\n",
       "      <th>SUBTLEX</th>\n",
       "      <th>Dom_Pos</th>\n",
       "    </tr>\n",
       "    <tr>\n",
       "      <th>Word</th>\n",
       "      <th></th>\n",
       "      <th></th>\n",
       "      <th></th>\n",
       "      <th></th>\n",
       "      <th></th>\n",
       "      <th></th>\n",
       "      <th></th>\n",
       "      <th></th>\n",
       "    </tr>\n",
       "  </thead>\n",
       "  <tbody>\n",
       "    <tr>\n",
       "      <th>roadsweeper</th>\n",
       "      <td>0</td>\n",
       "      <td>4.85</td>\n",
       "      <td>0.37</td>\n",
       "      <td>1</td>\n",
       "      <td>27</td>\n",
       "      <td>0.96</td>\n",
       "      <td>0</td>\n",
       "      <td>0</td>\n",
       "    </tr>\n",
       "    <tr>\n",
       "      <th>traindriver</th>\n",
       "      <td>0</td>\n",
       "      <td>4.54</td>\n",
       "      <td>0.71</td>\n",
       "      <td>3</td>\n",
       "      <td>29</td>\n",
       "      <td>0.90</td>\n",
       "      <td>0</td>\n",
       "      <td>0</td>\n",
       "    </tr>\n",
       "    <tr>\n",
       "      <th>tush</th>\n",
       "      <td>0</td>\n",
       "      <td>4.45</td>\n",
       "      <td>1.01</td>\n",
       "      <td>3</td>\n",
       "      <td>25</td>\n",
       "      <td>0.88</td>\n",
       "      <td>66</td>\n",
       "      <td>0</td>\n",
       "    </tr>\n",
       "    <tr>\n",
       "      <th>hairdress</th>\n",
       "      <td>0</td>\n",
       "      <td>3.93</td>\n",
       "      <td>1.28</td>\n",
       "      <td>0</td>\n",
       "      <td>29</td>\n",
       "      <td>1.00</td>\n",
       "      <td>1</td>\n",
       "      <td>0</td>\n",
       "    </tr>\n",
       "    <tr>\n",
       "      <th>pharmaceutics</th>\n",
       "      <td>0</td>\n",
       "      <td>3.77</td>\n",
       "      <td>1.41</td>\n",
       "      <td>4</td>\n",
       "      <td>26</td>\n",
       "      <td>0.85</td>\n",
       "      <td>0</td>\n",
       "      <td>0</td>\n",
       "    </tr>\n",
       "    <tr>\n",
       "      <th>hoover</th>\n",
       "      <td>0</td>\n",
       "      <td>3.76</td>\n",
       "      <td>1.23</td>\n",
       "      <td>4</td>\n",
       "      <td>29</td>\n",
       "      <td>0.86</td>\n",
       "      <td>162</td>\n",
       "      <td>0</td>\n",
       "    </tr>\n",
       "    <tr>\n",
       "      <th>shopkeeping</th>\n",
       "      <td>0</td>\n",
       "      <td>3.18</td>\n",
       "      <td>1.19</td>\n",
       "      <td>1</td>\n",
       "      <td>29</td>\n",
       "      <td>0.97</td>\n",
       "      <td>0</td>\n",
       "      <td>0</td>\n",
       "    </tr>\n",
       "    <tr>\n",
       "      <th>pushiness</th>\n",
       "      <td>0</td>\n",
       "      <td>2.48</td>\n",
       "      <td>1.24</td>\n",
       "      <td>1</td>\n",
       "      <td>30</td>\n",
       "      <td>0.97</td>\n",
       "      <td>0</td>\n",
       "      <td>0</td>\n",
       "    </tr>\n",
       "    <tr>\n",
       "      <th>underdevelop</th>\n",
       "      <td>0</td>\n",
       "      <td>2.37</td>\n",
       "      <td>1.40</td>\n",
       "      <td>0</td>\n",
       "      <td>30</td>\n",
       "      <td>1.00</td>\n",
       "      <td>0</td>\n",
       "      <td>0</td>\n",
       "    </tr>\n",
       "    <tr>\n",
       "      <th>tirelessness</th>\n",
       "      <td>0</td>\n",
       "      <td>2.28</td>\n",
       "      <td>1.28</td>\n",
       "      <td>1</td>\n",
       "      <td>30</td>\n",
       "      <td>0.97</td>\n",
       "      <td>0</td>\n",
       "      <td>0</td>\n",
       "    </tr>\n",
       "  </tbody>\n",
       "</table>\n",
       "</div>"
      ],
      "text/plain": [
       "               Bigram  Conc.M  Conc.SD  Unknown  Total  Percent_known  \\\n",
       "Word                                                                    \n",
       "roadsweeper         0    4.85     0.37        1     27           0.96   \n",
       "traindriver         0    4.54     0.71        3     29           0.90   \n",
       "tush                0    4.45     1.01        3     25           0.88   \n",
       "hairdress           0    3.93     1.28        0     29           1.00   \n",
       "pharmaceutics       0    3.77     1.41        4     26           0.85   \n",
       "hoover              0    3.76     1.23        4     29           0.86   \n",
       "shopkeeping         0    3.18     1.19        1     29           0.97   \n",
       "pushiness           0    2.48     1.24        1     30           0.97   \n",
       "underdevelop        0    2.37     1.40        0     30           1.00   \n",
       "tirelessness        0    2.28     1.28        1     30           0.97   \n",
       "\n",
       "               SUBTLEX Dom_Pos  \n",
       "Word                            \n",
       "roadsweeper          0       0  \n",
       "traindriver          0       0  \n",
       "tush                66       0  \n",
       "hairdress            1       0  \n",
       "pharmaceutics        0       0  \n",
       "hoover             162       0  \n",
       "shopkeeping          0       0  \n",
       "pushiness            0       0  \n",
       "underdevelop         0       0  \n",
       "tirelessness         0       0  "
      ]
     },
     "execution_count": 8,
     "metadata": {},
     "output_type": "execute_result"
    }
   ],
   "source": [
    "## TO BE COMPLETED ##\n",
    "import pandas as pd\n",
    "conc_df = pd.read_csv('Concreteness_ratings_Brysbaert_et_al_BRM.csv', index_col = 0)\n",
    "conc_df.head(10)\n",
    "\n"
   ]
  },
  {
   "cell_type": "code",
   "execution_count": 7,
   "metadata": {},
   "outputs": [
    {
     "data": {
      "text/plain": [
       "(39954, 8)"
      ]
     },
     "execution_count": 7,
     "metadata": {},
     "output_type": "execute_result"
    }
   ],
   "source": [
    "## TO BE COMPLETED ##\n",
    "conc_df.shape"
   ]
  },
  {
   "cell_type": "code",
   "execution_count": null,
   "metadata": {},
   "outputs": [],
   "source": [
    "## TO BE COMPLETED ##\n",
    "pass"
   ]
  },
  {
   "cell_type": "markdown",
   "metadata": {},
   "source": [
    "## 2. Multidimensional sorting [1 point]\n",
    "\n",
    "Write a single line of code that returns a version of `conc_df` which is sorted primarily by `'Percent_known'`, largest to smallest, and by `'Conc.M'`, smallest to largest. Store the output in a variable called `sorted_df`. You can use `test_multidimensional_sorting` to test that you're sorting in the required way.\n",
    "\n",
    "__Hint__: as you can see in the class notes, `sort_values` can take lists of column names as an argument. The same is true of the `ascending` keyword argument to `sort_values`."
   ]
  },
  {
   "cell_type": "code",
   "execution_count": 19,
   "metadata": {},
   "outputs": [],
   "source": [
    "## TO BE COMPLETED \n",
    "sorted_df = conc_df.sort_values(['Percent_known','Conc.M'], ascending=[False, True], inplace=False)"
   ]
  },
  {
   "cell_type": "code",
   "execution_count": 20,
   "metadata": {},
   "outputs": [],
   "source": [
    "def test_multidimensional_sorting(sorted_df):\n",
    "    \"\"\"If you capture the output of your sorting in a dataframe\n",
    "    and feed it into this function, it will run a basic test\n",
    "    on that dataframe.\n",
    "\n",
    "    \"\"\"\n",
    "    expected = ['although', 'spirituality', 'spiritually',\n",
    "                'whatsoever', 'enlightening', 'perhaps',\n",
    "                'if', 'belief', 'idealize', 'though']\n",
    "    result = list(sorted_df.index[: 10])\n",
    "    assert expected == result"
   ]
  },
  {
   "cell_type": "code",
   "execution_count": 21,
   "metadata": {},
   "outputs": [],
   "source": [
    "# If your test passes, this will produce no output. If it fails,\n",
    "# you'll see an assertion error:\n",
    "\n",
    "test_multidimensional_sorting(sorted_df)"
   ]
  },
  {
   "cell_type": "code",
   "execution_count": 28,
   "metadata": {},
   "outputs": [
    {
     "data": {
      "text/plain": [
       "pandas.core.series.Series"
      ]
     },
     "execution_count": 28,
     "metadata": {},
     "output_type": "execute_result"
    }
   ],
   "source": [
    "type(conc_df['Bigram'])"
   ]
  },
  {
   "cell_type": "markdown",
   "metadata": {},
   "source": [
    "## 3. Unigram vs. bigram distribution [1 point]\n",
    "\n",
    "Complete `bigram_distribution` according to its docstring. You can use `test_bigram_distribution` to check your code."
   ]
  },
  {
   "cell_type": "code",
   "execution_count": 34,
   "metadata": {},
   "outputs": [],
   "source": [
    "def bigram_distribution(conc_df):\n",
    "    \"\"\"Return the distribution of values in the 'Bigram' column\n",
    "    of the concreteness lexicon.\n",
    "\n",
    "    Parameters\n",
    "    ----------\n",
    "    conc_df : pd.DataFrame\n",
    "        The concreteness lexicon.\n",
    "\n",
    "    Returns\n",
    "    -------\n",
    "    pd.Series\n",
    "    \"\"\"\n",
    "    ## TO BE COMPLETED ##\n",
    "    \"\"\"indexed into column to transform this into a series. Then, used value counts to grab unique occurences of a particualr value wiothin this series\"\"\"\n",
    "    return conc_df['Bigram'].value_counts()\n",
    "    \n",
    "\n",
    "def test_bigram_distribution(words_df):\n",
    "    expected = pd.Series({0: 37058, 1: 2896})\n",
    "    assert bigram_distribution(words_df).all() == expected.all()"
   ]
  },
  {
   "cell_type": "code",
   "execution_count": 33,
   "metadata": {},
   "outputs": [],
   "source": [
    "# If your test passes, this will produce no output. If it fails,\n",
    "# you'll see an assertion error:\n",
    "\n",
    "test_bigram_distribution(conc_df)"
   ]
  },
  {
   "cell_type": "markdown",
   "metadata": {},
   "source": [
    "## 4. Barplot of the distribution of part-of-speech values [1 point]\n",
    "\n",
    "Write code to produce a horizontal barplot giving the distribution of the`'Dom_Pos'` values in `conc_df`."
   ]
  },
  {
   "cell_type": "code",
   "execution_count": 36,
   "metadata": {},
   "outputs": [
    {
     "data": {
      "text/plain": [
       "<matplotlib.axes._subplots.AxesSubplot at 0x7fbcf4074100>"
      ]
     },
     "execution_count": 36,
     "metadata": {},
     "output_type": "execute_result"
    },
    {
     "data": {
      "image/png": "[encoded data removed]",
      "text/plain": [
       "<Figure size 432x288 with 1 Axes>"
      ]
     },
     "metadata": {
      "needs_background": "light"
     },
     "output_type": "display_data"
    }
   ],
   "source": [
    "## TO BE COMPLETED ##\n",
    "conc_df['Dom_Pos'].value_counts().plot(kind='barh')"
   ]
  },
  {
   "cell_type": "markdown",
   "metadata": {},
   "source": [
    "## 5. Subframe of above-average concreteness values [2 points]\n",
    "\n",
    "Write code to pull out the subframe of `conc_df` in which the `'Conc.M'` values are greater than the mean for those values in the entire lexicon, and store this in a variable called `mu_df`. __The resulting frame has 18,273 rows__."
   ]
  },
  {
   "cell_type": "code",
   "execution_count": 38,
   "metadata": {},
   "outputs": [],
   "source": [
    "## TO BE COMPLETED ##\n",
    "mean_concm = conc_df['Conc.M'].mean()\n",
    "mu_df = conc_df[conc_df['Conc.M']>mean_concm]"
   ]
  },
  {
   "cell_type": "code",
   "execution_count": 39,
   "metadata": {},
   "outputs": [],
   "source": [
    "assert mu_df.shape[0] == 18273"
   ]
  },
  {
   "cell_type": "markdown",
   "metadata": {},
   "source": [
    "## 6. Recalculating 'Percent_known'  [2 points]\n",
    "\n",
    "This question asks you to create a useful `pd.Series` based on the ##conceretness lexicon. The full desired specification is given in the docstring."
   ]
  },
  {
   "cell_type": "code",
   "execution_count": 40,
   "metadata": {},
   "outputs": [],
   "source": [
    "def recalculate_percent_known(conc_df):\n",
    "    \"\"\"In the Concreteness lexicon, the 'Unknown' values divided by\n",
    "    the 'Total' values give us the percent unknown, and 1.0 minus those\n",
    "    values give us the 'Percent_known' values but at a greater level of\n",
    "    precision. The current function recomputes these values.\n",
    "\n",
    "    Parameters\n",
    "    ----------\n",
    "    conc_df : pd.DataFrame\n",
    "        The concreteness lexicon.\n",
    "\n",
    "    Returns\n",
    "    -------\n",
    "    pd.Series\n",
    "        Containing the calculated percent known values\n",
    "        for each word in the lexicon\n",
    "\n",
    "    \"\"\"\n",
    "    ## TO BE COMPLETED ##\n",
    "    \n",
    "    return 1.0 - (conc_df['Unknown']/conc_df['Total'])\n",
    "    \n",
    "\n",
    "def test_recalculate_percent_known(conc_df):\n",
    "    pk = recalculate_percent_known(conc_df)\n",
    "    examples = [\n",
    "        ('roadsweeper', 0.963),\n",
    "        ('hairdress', 1.0),\n",
    "        ('bobsleigh', 0.8462)]\n",
    "    for ex, expected in examples:\n",
    "        result = pk[ex].round(4)\n",
    "        assert result == expected, \\\n",
    "            \"For {}, expected {}; got {}\".format(ex, expected, result)"
   ]
  },
  {
   "cell_type": "code",
   "execution_count": 41,
   "metadata": {},
   "outputs": [],
   "source": [
    "# If your test passes, this will produce no output. If it fails,\n",
    "# you'll see an assertion error:\n",
    "\n",
    "test_recalculate_percent_known(conc_df)"
   ]
  },
  {
   "cell_type": "markdown",
   "metadata": {},
   "source": [
    "## 7. Grouping by part-of-speech  [2 points]\n",
    "\n",
    "This question asks you to use `groupby` to get the mean 'Percent_known' for each part-of-speech ('Dom_Pos' column). The return value is a `pd.Series`, and it should be sorted from largest to smallest mean 'Percent_known' value."
   ]
  },
  {
   "cell_type": "code",
   "execution_count": 50,
   "metadata": {},
   "outputs": [],
   "source": [
    "def percent_known_by_pos(conc_df):\n",
    "    \"\"\"Gets the mean 'Percent_known' for each part-of-speech\n",
    "    ('Dom_Pos' column), and return a `pd.Series` \n",
    "    sorted from\n",
    "    largest mean 'Percent_known' to smallest.\n",
    "\n",
    "    Parameters\n",
    "    ----------\n",
    "    conc_df : pd.DataFrame\n",
    "        The concreteness lexicon.\n",
    "\n",
    "    Returns\n",
    "    -------\n",
    "    pd.Series\n",
    "    \"\"\"\n",
    "\n",
    "    def mean_percent_known(grp):\n",
    "        \"\"\"This is the function to apply to each group.\n",
    "\n",
    "        Parameters\n",
    "        ----------\n",
    "        grp : pd.DataFrame\n",
    "            As created by `groupby`\n",
    "\n",
    "        Returns\n",
    "        -------\n",
    "        pd.Series\n",
    "            Giving the mean of the 'Percent_known' column\n",
    "            in `grp`.\n",
    "\n",
    "        \"\"\"\n",
    "        ## TO BE COMPLETED ##\n",
    "        return grp['Percent_known'].mean()\n",
    "\n",
    "    ## TO BE COMPLETED ##\n",
    "    return conc_df.groupby(['Dom_Pos']).apply(mean_percent_known).sort_values(ascending=False)\n",
    "\n",
    "\n",
    "def test_percent_known_by_pos(conc_df):\n",
    "    result = percent_known_by_pos(conc_df)\n",
    "    examples = (\n",
    "        (0, 'To', 1.000),\n",
    "        (3, 'Determiner', 0.995),\n",
    "        (-1, 'Unclassified', 0.917))\n",
    "    err_count = 0\n",
    "    for i, pos, val in examples:\n",
    "        if result.index[i] != pos:\n",
    "            print(\"Expected {} at row {}; got {}\".format(pos, i, result.index[i]))\n",
    "            err_count += 1\n",
    "        if pos not in result:\n",
    "            print(\"Key {} is not present\".format(pos))\n",
    "            err_count += 1\n",
    "        elif result.loc[pos].round(3) != val:\n",
    "            print(\"Expected value {} for {}; got {}\".format(val, pos, result.loc[pos]))\n",
    "            err_count += 1\n",
    "    print(\"test_percent_known_by_pos completed with {} errors\".format(err_count))"
   ]
  },
  {
   "cell_type": "code",
   "execution_count": 51,
   "metadata": {},
   "outputs": [
    {
     "name": "stdout",
     "output_type": "stream",
     "text": [
      "Dom_Pos\n",
      "To              1.000000\n",
      "Not             1.000000\n",
      "Ex              1.000000\n",
      "Determiner      0.995000\n",
      "Number          0.991333\n",
      "Pronoun         0.989483\n",
      "Preposition     0.988730\n",
      "Verb            0.976551\n",
      "Conjunction     0.975926\n",
      "Adverb          0.973033\n",
      "Article         0.972500\n",
      "Adjective       0.972266\n",
      "Noun            0.972092\n",
      "Interjection    0.954510\n",
      "Name            0.947900\n",
      "0               0.938750\n",
      "Letter          0.920000\n",
      "Unclassified    0.917273\n",
      "dtype: float64\n"
     ]
    }
   ],
   "source": [
    "result = percent_known_by_pos(conc_df)\n",
    "print(result)"
   ]
  },
  {
   "cell_type": "code",
   "execution_count": 52,
   "metadata": {},
   "outputs": [
    {
     "name": "stdout",
     "output_type": "stream",
     "text": [
      "test_percent_known_by_pos completed with 0 errors\n"
     ]
    }
   ],
   "source": [
    "test_percent_known_by_pos(conc_df)"
   ]
  },
  {
   "cell_type": "code",
   "execution_count": null,
   "metadata": {},
   "outputs": [],
   "source": []
  },
  {
   "cell_type": "code",
   "execution_count": null,
   "metadata": {},
   "outputs": [],
   "source": []
  }
 ],
 "metadata": {
  "kernelspec": {
   "display_name": "Python 3",
   "language": "python",
   "name": "python3"
  },
  "language_info": {
   "codemirror_mode": {
    "name": "ipython",
    "version": 3
   },
   "file_extension": ".py",
   "mimetype": "text/x-python",
   "name": "python",
   "nbconvert_exporter": "python",
   "pygments_lexer": "ipython3",
   "version": "3.8.3"
  }
 },
 "nbformat": 4,
 "nbformat_minor": 2
}
